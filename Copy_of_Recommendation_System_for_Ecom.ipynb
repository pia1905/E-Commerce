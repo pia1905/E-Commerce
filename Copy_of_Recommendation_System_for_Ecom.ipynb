{
  "nbformat": 4,
  "nbformat_minor": 0,
  "metadata": {
    "colab": {
      "provenance": [],
      "include_colab_link": true
    },
    "kernelspec": {
      "name": "python3",
      "display_name": "Python 3"
    },
    "language_info": {
      "name": "python"
    }
  },
  "cells": [
    {
      "cell_type": "markdown",
      "metadata": {
        "id": "view-in-github",
        "colab_type": "text"
      },
      "source": [
        "<a href=\"https://colab.research.google.com/github/pia1905/E-Commerce/blob/main/Copy_of_Recommendation_System_for_Ecom.ipynb\" target=\"_parent\"><img src=\"https://colab.research.google.com/assets/colab-badge.svg\" alt=\"Open In Colab\"/></a>"
      ]
    },
    {
      "cell_type": "code",
      "source": [
        "import numpy as np\n",
        "import pandas as pd\n",
        "import tensorflow as tf\n",
        "from sklearn.model_selection import train_test_split\n",
        "from tensorflow.keras.layers import Embedding, Flatten, Input, Dot, Add, Dense\n",
        "from tensorflow.keras.models import Model"
      ],
      "metadata": {
        "id": "b_1T0M95oGIV"
      },
      "execution_count": 3,
      "outputs": []
    },
    {
      "cell_type": "code",
      "source": [
        "data = pd.read_csv('/content/e_commerce_clothing_data.csv')"
      ],
      "metadata": {
        "id": "AE4praqroIbB"
      },
      "execution_count": 4,
      "outputs": []
    },
    {
      "cell_type": "code",
      "source": [
        "user_ids = data['user_id'].unique().tolist()\n",
        "item_ids = data['item_id'].unique().tolist()"
      ],
      "metadata": {
        "id": "KBCQsGHhokrl"
      },
      "execution_count": 5,
      "outputs": []
    },
    {
      "cell_type": "code",
      "source": [
        "user_to_index = {user: i for i, user in enumerate(user_ids)}\n",
        "item_to_index = {item: i for i, item in enumerate(item_ids)}"
      ],
      "metadata": {
        "id": "7r0ValkZox7H"
      },
      "execution_count": 6,
      "outputs": []
    },
    {
      "cell_type": "code",
      "source": [
        "data['user_index'] = data['user_id'].map(user_to_index)\n",
        "data['item_index'] = data['item_id'].map(item_to_index)"
      ],
      "metadata": {
        "id": "eEK2KoE7o2Zo"
      },
      "execution_count": 7,
      "outputs": []
    },
    {
      "cell_type": "code",
      "source": [
        "train, test = train_test_split(data, test_size=0.2)"
      ],
      "metadata": {
        "id": "6alUllm7o3fM"
      },
      "execution_count": 8,
      "outputs": []
    },
    {
      "cell_type": "code",
      "source": [
        "n_users = len(user_ids)\n",
        "n_items = len(item_ids)\n",
        "embedding_size = 50"
      ],
      "metadata": {
        "id": "4sAuHJVpo6I8"
      },
      "execution_count": 9,
      "outputs": []
    },
    {
      "cell_type": "code",
      "source": [
        "user_input = Input(shape=(1,), name='user_input')\n",
        "user_embedding = Embedding(input_dim=n_users, output_dim=embedding_size, name='user_embedding')(user_input)\n",
        "user_vec = Flatten()(user_embedding)"
      ],
      "metadata": {
        "id": "D7bcH8FJpBQx"
      },
      "execution_count": 10,
      "outputs": []
    },
    {
      "cell_type": "code",
      "source": [
        "item_input = Input(shape=(1,), name='item_input')\n",
        "item_embedding = Embedding(input_dim=n_items, output_dim=embedding_size, name='item_embedding')(item_input)\n",
        "item_vec = Flatten()(item_embedding)"
      ],
      "metadata": {
        "id": "H5KyuxLspP9J"
      },
      "execution_count": 11,
      "outputs": []
    },
    {
      "cell_type": "code",
      "source": [
        "dot_product = Dot(axes=1)([user_vec, item_vec])"
      ],
      "metadata": {
        "id": "KQo4pSjgpFGX"
      },
      "execution_count": 12,
      "outputs": []
    },
    {
      "cell_type": "code",
      "source": [
        "dot_product = Dot(axes=1)([user_vec, item_vec])"
      ],
      "metadata": {
        "id": "ezVMqWbEpHmd"
      },
      "execution_count": 13,
      "outputs": []
    },
    {
      "cell_type": "code",
      "source": [
        "user_bias = Embedding(n_users, 1)(user_input)\n",
        "item_bias = Embedding(n_items, 1)(item_input)\n",
        "user_bias = Flatten()(user_bias)\n",
        "item_bias = Flatten()(item_bias)"
      ],
      "metadata": {
        "id": "HNM-PMVnpT34"
      },
      "execution_count": 14,
      "outputs": []
    },
    {
      "cell_type": "code",
      "source": [
        "rating_pred = Add()([dot_product, user_bias, item_bias])"
      ],
      "metadata": {
        "id": "I6GbvwPzpVzW"
      },
      "execution_count": 15,
      "outputs": []
    },
    {
      "cell_type": "code",
      "source": [
        "model = Model(inputs=[user_input, item_input], outputs=rating_pred)\n",
        "model.compile(optimizer='adam', loss='mean_squared_error')"
      ],
      "metadata": {
        "id": "i7khNLBLpXwC"
      },
      "execution_count": 16,
      "outputs": []
    },
    {
      "cell_type": "code",
      "source": [
        "train_user_input = train['user_index'].values\n",
        "train_item_input = train['item_index'].values\n",
        "train_ratings = train['rating'].values"
      ],
      "metadata": {
        "id": "wzOiLDZkpaIX"
      },
      "execution_count": 17,
      "outputs": []
    },
    {
      "cell_type": "code",
      "source": [
        "model.fit([train_user_input, train_item_input], train_ratings, epochs=10, batch_size=32, verbose=1)"
      ],
      "metadata": {
        "colab": {
          "base_uri": "https://localhost:8080/"
        },
        "id": "a4Pt90wHpb7o",
        "outputId": "c87fa69b-c5f1-438f-fec0-b4a47a580778"
      },
      "execution_count": 18,
      "outputs": [
        {
          "output_type": "stream",
          "name": "stdout",
          "text": [
            "Epoch 1/10\n",
            "\u001b[1m25/25\u001b[0m \u001b[32m━━━━━━━━━━━━━━━━━━━━\u001b[0m\u001b[37m\u001b[0m \u001b[1m1s\u001b[0m 2ms/step - loss: 11.5423\n",
            "Epoch 2/10\n",
            "\u001b[1m25/25\u001b[0m \u001b[32m━━━━━━━━━━━━━━━━━━━━\u001b[0m\u001b[37m\u001b[0m \u001b[1m0s\u001b[0m 2ms/step - loss: 10.9514 \n",
            "Epoch 3/10\n",
            "\u001b[1m25/25\u001b[0m \u001b[32m━━━━━━━━━━━━━━━━━━━━\u001b[0m\u001b[37m\u001b[0m \u001b[1m0s\u001b[0m 1ms/step - loss: 11.3228 \n",
            "Epoch 4/10\n",
            "\u001b[1m25/25\u001b[0m \u001b[32m━━━━━━━━━━━━━━━━━━━━\u001b[0m\u001b[37m\u001b[0m \u001b[1m0s\u001b[0m 1ms/step - loss: 10.5962\n",
            "Epoch 5/10\n",
            "\u001b[1m25/25\u001b[0m \u001b[32m━━━━━━━━━━━━━━━━━━━━\u001b[0m\u001b[37m\u001b[0m \u001b[1m0s\u001b[0m 1ms/step - loss: 10.4908 \n",
            "Epoch 6/10\n",
            "\u001b[1m25/25\u001b[0m \u001b[32m━━━━━━━━━━━━━━━━━━━━\u001b[0m\u001b[37m\u001b[0m \u001b[1m0s\u001b[0m 1ms/step - loss: 9.9061 \n",
            "Epoch 7/10\n",
            "\u001b[1m25/25\u001b[0m \u001b[32m━━━━━━━━━━━━━━━━━━━━\u001b[0m\u001b[37m\u001b[0m \u001b[1m0s\u001b[0m 1ms/step - loss: 9.4756   \n",
            "Epoch 8/10\n",
            "\u001b[1m25/25\u001b[0m \u001b[32m━━━━━━━━━━━━━━━━━━━━\u001b[0m\u001b[37m\u001b[0m \u001b[1m0s\u001b[0m 1ms/step - loss: 9.2202 \n",
            "Epoch 9/10\n",
            "\u001b[1m25/25\u001b[0m \u001b[32m━━━━━━━━━━━━━━━━━━━━\u001b[0m\u001b[37m\u001b[0m \u001b[1m0s\u001b[0m 1ms/step - loss: 8.9875 \n",
            "Epoch 10/10\n",
            "\u001b[1m25/25\u001b[0m \u001b[32m━━━━━━━━━━━━━━━━━━━━\u001b[0m\u001b[37m\u001b[0m \u001b[1m0s\u001b[0m 1ms/step - loss: 7.6121 \n"
          ]
        },
        {
          "output_type": "execute_result",
          "data": {
            "text/plain": [
              "<keras.src.callbacks.history.History at 0x7ff36cfef310>"
            ]
          },
          "metadata": {},
          "execution_count": 18
        }
      ]
    },
    {
      "cell_type": "code",
      "source": [
        "test_user_input = test['user_index'].values\n",
        "test_item_input = test['item_index'].values\n",
        "test_ratings = test['rating'].values"
      ],
      "metadata": {
        "id": "8vX1Oj01pef4"
      },
      "execution_count": 19,
      "outputs": []
    },
    {
      "cell_type": "code",
      "source": [
        "predictions = model.predict([test_user_input, test_item_input])\n",
        "print(\"Predicted ratings:\", predictions)"
      ],
      "metadata": {
        "colab": {
          "base_uri": "https://localhost:8080/"
        },
        "id": "CKN6NznRplRP",
        "outputId": "5a5159d7-def6-49a4-d275-fecc73c155da"
      },
      "execution_count": 20,
      "outputs": [
        {
          "output_type": "stream",
          "name": "stdout",
          "text": [
            "\u001b[1m7/7\u001b[0m \u001b[32m━━━━━━━━━━━━━━━━━━━━\u001b[0m\u001b[37m\u001b[0m \u001b[1m0s\u001b[0m 51ms/step\n",
            "Predicted ratings: [[0.3288082 ]\n",
            " [0.52347594]\n",
            " [0.4019267 ]\n",
            " [0.77059925]\n",
            " [0.323212  ]\n",
            " [0.8530605 ]\n",
            " [0.36916685]\n",
            " [0.66664153]\n",
            " [0.7888523 ]\n",
            " [0.46487874]\n",
            " [0.59503037]\n",
            " [0.6336697 ]\n",
            " [0.70964295]\n",
            " [0.70957243]\n",
            " [0.6280929 ]\n",
            " [0.60952985]\n",
            " [0.38217372]\n",
            " [0.70798063]\n",
            " [0.81956387]\n",
            " [0.6571615 ]\n",
            " [0.71310616]\n",
            " [0.39944533]\n",
            " [0.46487874]\n",
            " [0.7060486 ]\n",
            " [0.5142701 ]\n",
            " [0.40282583]\n",
            " [0.39304015]\n",
            " [0.66318583]\n",
            " [0.71721566]\n",
            " [0.56683505]\n",
            " [0.47252697]\n",
            " [0.5195748 ]\n",
            " [0.6204772 ]\n",
            " [0.7435236 ]\n",
            " [0.57337284]\n",
            " [0.59765303]\n",
            " [0.7838358 ]\n",
            " [0.44276345]\n",
            " [0.7194716 ]\n",
            " [0.5302416 ]\n",
            " [0.7072058 ]\n",
            " [0.51111495]\n",
            " [0.46954137]\n",
            " [0.771952  ]\n",
            " [0.5132543 ]\n",
            " [0.77003956]\n",
            " [0.61561054]\n",
            " [0.45574602]\n",
            " [0.4275628 ]\n",
            " [0.5082019 ]\n",
            " [0.33668613]\n",
            " [0.64547276]\n",
            " [0.36788136]\n",
            " [0.5830987 ]\n",
            " [0.8384577 ]\n",
            " [0.47698337]\n",
            " [0.63589644]\n",
            " [0.5982469 ]\n",
            " [0.61871624]\n",
            " [0.73270357]\n",
            " [0.330842  ]\n",
            " [0.5342384 ]\n",
            " [0.39142746]\n",
            " [0.3964703 ]\n",
            " [0.8577726 ]\n",
            " [0.5106816 ]\n",
            " [0.5806832 ]\n",
            " [0.49528337]\n",
            " [0.6423488 ]\n",
            " [0.6769799 ]\n",
            " [0.46359944]\n",
            " [0.38565284]\n",
            " [0.62632513]\n",
            " [0.8075885 ]\n",
            " [0.41419628]\n",
            " [0.5604475 ]\n",
            " [0.562029  ]\n",
            " [0.5781318 ]\n",
            " [0.7400481 ]\n",
            " [0.28175816]\n",
            " [0.4940157 ]\n",
            " [0.8340504 ]\n",
            " [0.68785876]\n",
            " [0.8463925 ]\n",
            " [0.33974406]\n",
            " [0.66148555]\n",
            " [0.852774  ]\n",
            " [0.72165513]\n",
            " [0.4870758 ]\n",
            " [0.67681307]\n",
            " [0.5894192 ]\n",
            " [0.58024055]\n",
            " [0.41543987]\n",
            " [0.43874615]\n",
            " [0.5356019 ]\n",
            " [0.37668133]\n",
            " [0.52939165]\n",
            " [0.62582856]\n",
            " [0.48955876]\n",
            " [0.771952  ]\n",
            " [0.33497834]\n",
            " [0.46164137]\n",
            " [0.8232212 ]\n",
            " [0.6406822 ]\n",
            " [0.50650215]\n",
            " [0.7196233 ]\n",
            " [0.48982626]\n",
            " [0.48077047]\n",
            " [0.49118215]\n",
            " [0.8799997 ]\n",
            " [0.71358836]\n",
            " [0.6990235 ]\n",
            " [0.57180536]\n",
            " [0.7558285 ]\n",
            " [0.4999685 ]\n",
            " [0.6796208 ]\n",
            " [0.62963015]\n",
            " [0.81192833]\n",
            " [0.6296787 ]\n",
            " [0.50221056]\n",
            " [0.4752354 ]\n",
            " [0.48537773]\n",
            " [0.5036083 ]\n",
            " [0.5928658 ]\n",
            " [0.74916357]\n",
            " [0.6659361 ]\n",
            " [0.34290153]\n",
            " [0.62632513]\n",
            " [0.82458764]\n",
            " [0.45492226]\n",
            " [0.42313886]\n",
            " [0.63307774]\n",
            " [0.57542205]\n",
            " [0.5828183 ]\n",
            " [0.5528899 ]\n",
            " [0.59846866]\n",
            " [0.41758448]\n",
            " [0.60764885]\n",
            " [0.31745732]\n",
            " [0.5166494 ]\n",
            " [0.38770026]\n",
            " [0.46044776]\n",
            " [0.54874843]\n",
            " [0.6754923 ]\n",
            " [0.51369715]\n",
            " [0.40303206]\n",
            " [0.5718231 ]\n",
            " [0.61660534]\n",
            " [0.8384577 ]\n",
            " [0.63060564]\n",
            " [0.35750914]\n",
            " [0.79091394]\n",
            " [0.5781943 ]\n",
            " [0.6458067 ]\n",
            " [0.40860075]\n",
            " [0.82904005]\n",
            " [0.56536245]\n",
            " [0.2891757 ]\n",
            " [0.6099023 ]\n",
            " [0.7894314 ]\n",
            " [0.65531623]\n",
            " [0.7607971 ]\n",
            " [0.61747754]\n",
            " [0.3706166 ]\n",
            " [0.38975266]\n",
            " [0.76575965]\n",
            " [0.641622  ]\n",
            " [0.75492454]\n",
            " [0.68833053]\n",
            " [0.38889635]\n",
            " [0.4749589 ]\n",
            " [0.54495895]\n",
            " [0.5335092 ]\n",
            " [0.59738815]\n",
            " [0.64421666]\n",
            " [0.5303888 ]\n",
            " [0.5523102 ]\n",
            " [0.64678466]\n",
            " [0.43064296]\n",
            " [0.77102494]\n",
            " [0.4993233 ]\n",
            " [0.5288233 ]\n",
            " [0.901178  ]\n",
            " [0.544692  ]\n",
            " [0.5099373 ]\n",
            " [0.6222522 ]\n",
            " [0.8265277 ]\n",
            " [0.53886646]\n",
            " [0.41713727]\n",
            " [0.335604  ]\n",
            " [0.28175816]\n",
            " [0.8510245 ]\n",
            " [0.49352127]\n",
            " [0.6939389 ]\n",
            " [0.6775169 ]\n",
            " [0.6691214 ]\n",
            " [0.73381084]\n",
            " [0.5716789 ]\n",
            " [0.7223097 ]\n",
            " [0.5204779 ]]\n"
          ]
        }
      ]
    },
    {
      "cell_type": "code",
      "source": [
        "def recommend_items(user_id, num_recommendations=5):\n",
        "    user_idx = user_to_index[user_id]\n",
        "    item_indices = np.arange(n_items)\n",
        "\n",
        "    user_input = np.array([user_idx] * n_items)\n",
        "    predicted_ratings = model.predict([user_input, item_indices])\n",
        "\n",
        "    recommended_item_indices = np.argsort(predicted_ratings[:, 0])[::-1][:num_recommendations]\n",
        "    recommended_items = [item_ids[i] for i in recommended_item_indices]\n",
        "\n",
        "    return recommended_items"
      ],
      "metadata": {
        "id": "jys6ymbipn2s"
      },
      "execution_count": 21,
      "outputs": []
    },
    {
      "cell_type": "code",
      "source": [
        "recommended_items = recommend_items(user_id=52)\n",
        "print(\"Recommended items for user 52:\", recommended_items)"
      ],
      "metadata": {
        "colab": {
          "base_uri": "https://localhost:8080/"
        },
        "id": "GvCDJEPMps19",
        "outputId": "59a0f2e8-6d69-457f-93a0-c74dc324ed38"
      },
      "execution_count": 22,
      "outputs": [
        {
          "output_type": "stream",
          "name": "stdout",
          "text": [
            "\u001b[1m2/2\u001b[0m \u001b[32m━━━━━━━━━━━━━━━━━━━━\u001b[0m\u001b[37m\u001b[0m \u001b[1m0s\u001b[0m 4ms/step \n",
            "Recommended items for user 52: [111, 134, 129, 115, 126]\n"
          ]
        }
      ]
    },
    {
      "cell_type": "code",
      "source": [],
      "metadata": {
        "id": "jqLqqtVQpvvV"
      },
      "execution_count": null,
      "outputs": []
    }
  ]
}